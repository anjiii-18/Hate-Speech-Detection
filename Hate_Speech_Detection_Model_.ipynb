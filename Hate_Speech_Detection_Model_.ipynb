{
  "nbformat": 4,
  "nbformat_minor": 0,
  "metadata": {
    "colab": {
      "name": "Hate Speech Detection Model  .ipynb",
      "provenance": [],
      "collapsed_sections": [],
      "toc_visible": true
    },
    "kernelspec": {
      "name": "python3",
      "display_name": "Python 3"
    }
  },
  "cells": [
    {
      "cell_type": "markdown",
      "metadata": {
        "id": "rV3CMCDSLNNt"
      },
      "source": [
        "### **IMPORTING** **DATA**"
      ]
    },
    {
      "cell_type": "code",
      "metadata": {
        "id": "KxVwyCH-orrR"
      },
      "source": [
        "import pandas as pd\r\n",
        "train = pd.read_csv('/content/data/train.csv')\r\n",
        "print(\"Training Set:\"% train.columns, train.shape, len(train))\r\n",
        "test = pd.read_csv('/content/data/test.csv')\r\n",
        "print(\"Test Set:\"% test.columns, test.shape, len(test))"
      ],
      "execution_count": null,
      "outputs": []
    },
    {
      "cell_type": "code",
      "metadata": {
        "colab": {
          "base_uri": "https://localhost:8080/",
          "height": 402
        },
        "id": "SvrqbJ-gOUYj",
        "outputId": "ca6eda7a-abc1-4310-b763-9ad6321287fd"
      },
      "source": [
        "train"
      ],
      "execution_count": null,
      "outputs": [
        {
          "output_type": "execute_result",
          "data": {
            "text/html": [
              "<div>\n",
              "<style scoped>\n",
              "    .dataframe tbody tr th:only-of-type {\n",
              "        vertical-align: middle;\n",
              "    }\n",
              "\n",
              "    .dataframe tbody tr th {\n",
              "        vertical-align: top;\n",
              "    }\n",
              "\n",
              "    .dataframe thead th {\n",
              "        text-align: right;\n",
              "    }\n",
              "</style>\n",
              "<table border=\"1\" class=\"dataframe\">\n",
              "  <thead>\n",
              "    <tr style=\"text-align: right;\">\n",
              "      <th></th>\n",
              "      <th>id</th>\n",
              "      <th>label</th>\n",
              "      <th>tweet</th>\n",
              "    </tr>\n",
              "  </thead>\n",
              "  <tbody>\n",
              "    <tr>\n",
              "      <th>0</th>\n",
              "      <td>1</td>\n",
              "      <td>0</td>\n",
              "      <td>@user when a father is dysfunctional and is s...</td>\n",
              "    </tr>\n",
              "    <tr>\n",
              "      <th>1</th>\n",
              "      <td>2</td>\n",
              "      <td>0</td>\n",
              "      <td>@user @user thanks for #lyft credit i can't us...</td>\n",
              "    </tr>\n",
              "    <tr>\n",
              "      <th>2</th>\n",
              "      <td>3</td>\n",
              "      <td>0</td>\n",
              "      <td>bihday your majesty</td>\n",
              "    </tr>\n",
              "    <tr>\n",
              "      <th>3</th>\n",
              "      <td>4</td>\n",
              "      <td>0</td>\n",
              "      <td>#model   i love u take with u all the time in ...</td>\n",
              "    </tr>\n",
              "    <tr>\n",
              "      <th>4</th>\n",
              "      <td>5</td>\n",
              "      <td>0</td>\n",
              "      <td>factsguide: society now    #motivation</td>\n",
              "    </tr>\n",
              "    <tr>\n",
              "      <th>...</th>\n",
              "      <td>...</td>\n",
              "      <td>...</td>\n",
              "      <td>...</td>\n",
              "    </tr>\n",
              "    <tr>\n",
              "      <th>31957</th>\n",
              "      <td>31958</td>\n",
              "      <td>0</td>\n",
              "      <td>ate @user isz that youuu?ðððððð...</td>\n",
              "    </tr>\n",
              "    <tr>\n",
              "      <th>31958</th>\n",
              "      <td>31959</td>\n",
              "      <td>0</td>\n",
              "      <td>to see nina turner on the airwaves trying to...</td>\n",
              "    </tr>\n",
              "    <tr>\n",
              "      <th>31959</th>\n",
              "      <td>31960</td>\n",
              "      <td>0</td>\n",
              "      <td>listening to sad songs on a monday morning otw...</td>\n",
              "    </tr>\n",
              "    <tr>\n",
              "      <th>31960</th>\n",
              "      <td>31961</td>\n",
              "      <td>1</td>\n",
              "      <td>@user #sikh #temple vandalised in in #calgary,...</td>\n",
              "    </tr>\n",
              "    <tr>\n",
              "      <th>31961</th>\n",
              "      <td>31962</td>\n",
              "      <td>0</td>\n",
              "      <td>thank you @user for you follow</td>\n",
              "    </tr>\n",
              "  </tbody>\n",
              "</table>\n",
              "<p>31962 rows × 3 columns</p>\n",
              "</div>"
            ],
            "text/plain": [
              "          id  label                                              tweet\n",
              "0          1      0   @user when a father is dysfunctional and is s...\n",
              "1          2      0  @user @user thanks for #lyft credit i can't us...\n",
              "2          3      0                                bihday your majesty\n",
              "3          4      0  #model   i love u take with u all the time in ...\n",
              "4          5      0             factsguide: society now    #motivation\n",
              "...      ...    ...                                                ...\n",
              "31957  31958      0  ate @user isz that youuu?ðððððð...\n",
              "31958  31959      0    to see nina turner on the airwaves trying to...\n",
              "31959  31960      0  listening to sad songs on a monday morning otw...\n",
              "31960  31961      1  @user #sikh #temple vandalised in in #calgary,...\n",
              "31961  31962      0                   thank you @user for you follow  \n",
              "\n",
              "[31962 rows x 3 columns]"
            ]
          },
          "metadata": {
            "tags": []
          },
          "execution_count": 7
        }
      ]
    },
    {
      "cell_type": "code",
      "metadata": {
        "colab": {
          "base_uri": "https://localhost:8080/",
          "height": 402
        },
        "id": "OBLaXZmkOXaY",
        "outputId": "9798bd3a-46f5-4992-e111-4ad4990beded"
      },
      "source": [
        "test"
      ],
      "execution_count": null,
      "outputs": [
        {
          "output_type": "execute_result",
          "data": {
            "text/html": [
              "<div>\n",
              "<style scoped>\n",
              "    .dataframe tbody tr th:only-of-type {\n",
              "        vertical-align: middle;\n",
              "    }\n",
              "\n",
              "    .dataframe tbody tr th {\n",
              "        vertical-align: top;\n",
              "    }\n",
              "\n",
              "    .dataframe thead th {\n",
              "        text-align: right;\n",
              "    }\n",
              "</style>\n",
              "<table border=\"1\" class=\"dataframe\">\n",
              "  <thead>\n",
              "    <tr style=\"text-align: right;\">\n",
              "      <th></th>\n",
              "      <th>id</th>\n",
              "      <th>tweet</th>\n",
              "    </tr>\n",
              "  </thead>\n",
              "  <tbody>\n",
              "    <tr>\n",
              "      <th>0</th>\n",
              "      <td>31963</td>\n",
              "      <td>#studiolife #aislife #requires #passion #dedic...</td>\n",
              "    </tr>\n",
              "    <tr>\n",
              "      <th>1</th>\n",
              "      <td>31964</td>\n",
              "      <td>@user #white #supremacists want everyone to s...</td>\n",
              "    </tr>\n",
              "    <tr>\n",
              "      <th>2</th>\n",
              "      <td>31965</td>\n",
              "      <td>safe ways to heal your #acne!!    #altwaystohe...</td>\n",
              "    </tr>\n",
              "    <tr>\n",
              "      <th>3</th>\n",
              "      <td>31966</td>\n",
              "      <td>is the hp and the cursed child book up for res...</td>\n",
              "    </tr>\n",
              "    <tr>\n",
              "      <th>4</th>\n",
              "      <td>31967</td>\n",
              "      <td>3rd #bihday to my amazing, hilarious #nephew...</td>\n",
              "    </tr>\n",
              "    <tr>\n",
              "      <th>...</th>\n",
              "      <td>...</td>\n",
              "      <td>...</td>\n",
              "    </tr>\n",
              "    <tr>\n",
              "      <th>17192</th>\n",
              "      <td>49155</td>\n",
              "      <td>thought factory: left-right polarisation! #tru...</td>\n",
              "    </tr>\n",
              "    <tr>\n",
              "      <th>17193</th>\n",
              "      <td>49156</td>\n",
              "      <td>feeling like a mermaid ð #hairflip #neverre...</td>\n",
              "    </tr>\n",
              "    <tr>\n",
              "      <th>17194</th>\n",
              "      <td>49157</td>\n",
              "      <td>#hillary #campaigned today in #ohio((omg)) &amp;am...</td>\n",
              "    </tr>\n",
              "    <tr>\n",
              "      <th>17195</th>\n",
              "      <td>49158</td>\n",
              "      <td>happy, at work conference: right mindset leads...</td>\n",
              "    </tr>\n",
              "    <tr>\n",
              "      <th>17196</th>\n",
              "      <td>49159</td>\n",
              "      <td>my   song \"so glad\" free download!  #shoegaze ...</td>\n",
              "    </tr>\n",
              "  </tbody>\n",
              "</table>\n",
              "<p>17197 rows × 2 columns</p>\n",
              "</div>"
            ],
            "text/plain": [
              "          id                                              tweet\n",
              "0      31963  #studiolife #aislife #requires #passion #dedic...\n",
              "1      31964   @user #white #supremacists want everyone to s...\n",
              "2      31965  safe ways to heal your #acne!!    #altwaystohe...\n",
              "3      31966  is the hp and the cursed child book up for res...\n",
              "4      31967    3rd #bihday to my amazing, hilarious #nephew...\n",
              "...      ...                                                ...\n",
              "17192  49155  thought factory: left-right polarisation! #tru...\n",
              "17193  49156  feeling like a mermaid ð #hairflip #neverre...\n",
              "17194  49157  #hillary #campaigned today in #ohio((omg)) &am...\n",
              "17195  49158  happy, at work conference: right mindset leads...\n",
              "17196  49159  my   song \"so glad\" free download!  #shoegaze ...\n",
              "\n",
              "[17197 rows x 2 columns]"
            ]
          },
          "metadata": {
            "tags": []
          },
          "execution_count": 8
        }
      ]
    },
    {
      "cell_type": "markdown",
      "metadata": {
        "id": "doWiubmQpnIv"
      },
      "source": [
        "### **DATA** **CLEANING**"
      ]
    },
    {
      "cell_type": "markdown",
      "metadata": {
        "id": "Yz4MiGPAMM4I"
      },
      "source": [
        "In order to make any machine algorithm work well, I had to pre-process the given text data. \r\n",
        "Tweets contain characters like hashtags or emojis, which won’t be meaningful to a machine learning algorithm.\r\n",
        "I am using the re library in Python for removing these characters.\r\n",
        "This function also converts every word in lower case, which is nice because the following algorithm will count the frequency of words. Without this processing, a lower and upper version of the same word would count differently, even if the meaning is the same. Let’s have a look at the cleaned data."
      ]
    },
    {
      "cell_type": "code",
      "metadata": {
        "id": "OIE-aSvepR2_"
      },
      "source": [
        "import re\r\n",
        "def clean_text(df,text_field):\r\n",
        "  df[text_field] = df[text_field].str.lower()\r\n",
        "  pattern = r\"(@[A-Za-z0-9]+)|([^0-9A-Za-z \\t])|(\\w+:\\/\\/\\S+)|^rt|http.+?\"\r\n",
        "  df[text_field] = df[text_field].apply(lambda elem: re.sub(pattern, \"\", elem))\r\n",
        "  return df\r\n",
        "test_clean = clean_text(test, \"tweet\")\r\n",
        "train_clean = clean_text(train, \"tweet\")"
      ],
      "execution_count": null,
      "outputs": []
    },
    {
      "cell_type": "code",
      "metadata": {
        "colab": {
          "base_uri": "https://localhost:8080/",
          "height": 402
        },
        "id": "akO7iXdKNsWO",
        "outputId": "32b34da2-1b93-4f3b-b6a5-3b654d2990a5"
      },
      "source": [
        "train_clean"
      ],
      "execution_count": null,
      "outputs": [
        {
          "output_type": "execute_result",
          "data": {
            "text/html": [
              "<div>\n",
              "<style scoped>\n",
              "    .dataframe tbody tr th:only-of-type {\n",
              "        vertical-align: middle;\n",
              "    }\n",
              "\n",
              "    .dataframe tbody tr th {\n",
              "        vertical-align: top;\n",
              "    }\n",
              "\n",
              "    .dataframe thead th {\n",
              "        text-align: right;\n",
              "    }\n",
              "</style>\n",
              "<table border=\"1\" class=\"dataframe\">\n",
              "  <thead>\n",
              "    <tr style=\"text-align: right;\">\n",
              "      <th></th>\n",
              "      <th>id</th>\n",
              "      <th>label</th>\n",
              "      <th>tweet</th>\n",
              "    </tr>\n",
              "  </thead>\n",
              "  <tbody>\n",
              "    <tr>\n",
              "      <th>0</th>\n",
              "      <td>1</td>\n",
              "      <td>0</td>\n",
              "      <td>when a father is dysfunctional and is so sel...</td>\n",
              "    </tr>\n",
              "    <tr>\n",
              "      <th>1</th>\n",
              "      <td>2</td>\n",
              "      <td>0</td>\n",
              "      <td>thanks for lyft credit i cant use cause they...</td>\n",
              "    </tr>\n",
              "    <tr>\n",
              "      <th>2</th>\n",
              "      <td>3</td>\n",
              "      <td>0</td>\n",
              "      <td>bihday your majesty</td>\n",
              "    </tr>\n",
              "    <tr>\n",
              "      <th>3</th>\n",
              "      <td>4</td>\n",
              "      <td>0</td>\n",
              "      <td>model   i love u take with u all the time in u...</td>\n",
              "    </tr>\n",
              "    <tr>\n",
              "      <th>4</th>\n",
              "      <td>5</td>\n",
              "      <td>0</td>\n",
              "      <td>factsguide society now    motivation</td>\n",
              "    </tr>\n",
              "    <tr>\n",
              "      <th>...</th>\n",
              "      <td>...</td>\n",
              "      <td>...</td>\n",
              "      <td>...</td>\n",
              "    </tr>\n",
              "    <tr>\n",
              "      <th>31957</th>\n",
              "      <td>31958</td>\n",
              "      <td>0</td>\n",
              "      <td>ate  isz that youuu</td>\n",
              "    </tr>\n",
              "    <tr>\n",
              "      <th>31958</th>\n",
              "      <td>31959</td>\n",
              "      <td>0</td>\n",
              "      <td>to see nina turner on the airwaves trying to...</td>\n",
              "    </tr>\n",
              "    <tr>\n",
              "      <th>31959</th>\n",
              "      <td>31960</td>\n",
              "      <td>0</td>\n",
              "      <td>listening to sad songs on a monday morning otw...</td>\n",
              "    </tr>\n",
              "    <tr>\n",
              "      <th>31960</th>\n",
              "      <td>31961</td>\n",
              "      <td>1</td>\n",
              "      <td>sikh temple vandalised in in calgary wso cond...</td>\n",
              "    </tr>\n",
              "    <tr>\n",
              "      <th>31961</th>\n",
              "      <td>31962</td>\n",
              "      <td>0</td>\n",
              "      <td>thank you  for you follow</td>\n",
              "    </tr>\n",
              "  </tbody>\n",
              "</table>\n",
              "<p>31962 rows × 3 columns</p>\n",
              "</div>"
            ],
            "text/plain": [
              "          id  label                                              tweet\n",
              "0          1      0    when a father is dysfunctional and is so sel...\n",
              "1          2      0    thanks for lyft credit i cant use cause they...\n",
              "2          3      0                                bihday your majesty\n",
              "3          4      0  model   i love u take with u all the time in u...\n",
              "4          5      0               factsguide society now    motivation\n",
              "...      ...    ...                                                ...\n",
              "31957  31958      0                               ate  isz that youuu \n",
              "31958  31959      0    to see nina turner on the airwaves trying to...\n",
              "31959  31960      0  listening to sad songs on a monday morning otw...\n",
              "31960  31961      1   sikh temple vandalised in in calgary wso cond...\n",
              "31961  31962      0                        thank you  for you follow  \n",
              "\n",
              "[31962 rows x 3 columns]"
            ]
          },
          "metadata": {
            "tags": []
          },
          "execution_count": 10
        }
      ]
    },
    {
      "cell_type": "code",
      "metadata": {
        "colab": {
          "base_uri": "https://localhost:8080/",
          "height": 402
        },
        "id": "ztq4301xNv49",
        "outputId": "5bcfd9d4-e2fe-4b93-ec1b-9e0233fc6971"
      },
      "source": [
        "test_clean"
      ],
      "execution_count": null,
      "outputs": [
        {
          "output_type": "execute_result",
          "data": {
            "text/html": [
              "<div>\n",
              "<style scoped>\n",
              "    .dataframe tbody tr th:only-of-type {\n",
              "        vertical-align: middle;\n",
              "    }\n",
              "\n",
              "    .dataframe tbody tr th {\n",
              "        vertical-align: top;\n",
              "    }\n",
              "\n",
              "    .dataframe thead th {\n",
              "        text-align: right;\n",
              "    }\n",
              "</style>\n",
              "<table border=\"1\" class=\"dataframe\">\n",
              "  <thead>\n",
              "    <tr style=\"text-align: right;\">\n",
              "      <th></th>\n",
              "      <th>id</th>\n",
              "      <th>tweet</th>\n",
              "    </tr>\n",
              "  </thead>\n",
              "  <tbody>\n",
              "    <tr>\n",
              "      <th>0</th>\n",
              "      <td>31963</td>\n",
              "      <td>studiolife aislife requires passion dedication...</td>\n",
              "    </tr>\n",
              "    <tr>\n",
              "      <th>1</th>\n",
              "      <td>31964</td>\n",
              "      <td>white supremacists want everyone to see the ...</td>\n",
              "    </tr>\n",
              "    <tr>\n",
              "      <th>2</th>\n",
              "      <td>31965</td>\n",
              "      <td>safe ways to heal your acne    altwaystoheal h...</td>\n",
              "    </tr>\n",
              "    <tr>\n",
              "      <th>3</th>\n",
              "      <td>31966</td>\n",
              "      <td>is the hp and the cursed child book up for res...</td>\n",
              "    </tr>\n",
              "    <tr>\n",
              "      <th>4</th>\n",
              "      <td>31967</td>\n",
              "      <td>3rd bihday to my amazing hilarious nephew el...</td>\n",
              "    </tr>\n",
              "    <tr>\n",
              "      <th>...</th>\n",
              "      <td>...</td>\n",
              "      <td>...</td>\n",
              "    </tr>\n",
              "    <tr>\n",
              "      <th>17192</th>\n",
              "      <td>49155</td>\n",
              "      <td>thought factory leftright polarisation trump u...</td>\n",
              "    </tr>\n",
              "    <tr>\n",
              "      <th>17193</th>\n",
              "      <td>49156</td>\n",
              "      <td>feeling like a mermaid  hairflip neverready fo...</td>\n",
              "    </tr>\n",
              "    <tr>\n",
              "      <th>17194</th>\n",
              "      <td>49157</td>\n",
              "      <td>hillary campaigned today in ohioomg amp used w...</td>\n",
              "    </tr>\n",
              "    <tr>\n",
              "      <th>17195</th>\n",
              "      <td>49158</td>\n",
              "      <td>happy at work conference right mindset leads t...</td>\n",
              "    </tr>\n",
              "    <tr>\n",
              "      <th>17196</th>\n",
              "      <td>49159</td>\n",
              "      <td>my   song so glad free download  shoegaze newm...</td>\n",
              "    </tr>\n",
              "  </tbody>\n",
              "</table>\n",
              "<p>17197 rows × 2 columns</p>\n",
              "</div>"
            ],
            "text/plain": [
              "          id                                              tweet\n",
              "0      31963  studiolife aislife requires passion dedication...\n",
              "1      31964    white supremacists want everyone to see the ...\n",
              "2      31965  safe ways to heal your acne    altwaystoheal h...\n",
              "3      31966  is the hp and the cursed child book up for res...\n",
              "4      31967    3rd bihday to my amazing hilarious nephew el...\n",
              "...      ...                                                ...\n",
              "17192  49155  thought factory leftright polarisation trump u...\n",
              "17193  49156  feeling like a mermaid  hairflip neverready fo...\n",
              "17194  49157  hillary campaigned today in ohioomg amp used w...\n",
              "17195  49158  happy at work conference right mindset leads t...\n",
              "17196  49159  my   song so glad free download  shoegaze newm...\n",
              "\n",
              "[17197 rows x 2 columns]"
            ]
          },
          "metadata": {
            "tags": []
          },
          "execution_count": 11
        }
      ]
    },
    {
      "cell_type": "markdown",
      "metadata": {
        "id": "4SU9F6Z_5Tgd"
      },
      "source": [
        "### **HANDLING IMBALANCED DATA**"
      ]
    },
    {
      "cell_type": "markdown",
      "metadata": {
        "id": "S1c_qjaqOqRK"
      },
      "source": [
        "After having the data cleaned I realized, that the number of non-antisemitic tweets predominated the antisemitic tweets. If the machine learning model is only being fed with tweets, which are labeled as 0, it is more likely, that it will predict new tweets to 0 in the end. Having the classes balanced is an important requirement to proceed in this stage.\r\n",
        "\r\n",
        "It is one approach, to either upsample or downsample the minority/majority of a class. At this point, it was really about trying which method scores better results. I went for upsampling the minority, where samples of the minority are being used multiple times until the class is the same size as the majority. For this implementation, I used the functions of the sklearn library.\r\n",
        "\r\n",
        "\r\n",
        "\r\n"
      ]
    },
    {
      "cell_type": "code",
      "metadata": {
        "colab": {
          "base_uri": "https://localhost:8080/"
        },
        "id": "VWlaIcwqtkh6",
        "outputId": "c66c26ec-8d53-48dc-8a6d-737caebd7dc3"
      },
      "source": [
        "from sklearn.utils import resample\r\n",
        "train_majority = train_clean[train_clean.label==0]\r\n",
        "train_minority = train_clean[train_clean.label==1]\r\n",
        "train_minority_upsampled = resample(train_minority,replace=True,n_samples=len(train_majority),random_state=123)\r\n",
        "train_upsampled = pd.concat([train_minority_upsampled , train_majority])\r\n",
        "train_upsampled['label'].value_counts()"
      ],
      "execution_count": null,
      "outputs": [
        {
          "output_type": "execute_result",
          "data": {
            "text/plain": [
              "1    29720\n",
              "0    29720\n",
              "Name: label, dtype: int64"
            ]
          },
          "metadata": {
            "tags": []
          },
          "execution_count": 12
        }
      ]
    },
    {
      "cell_type": "code",
      "metadata": {
        "colab": {
          "base_uri": "https://localhost:8080/"
        },
        "id": "L_a2xbkuN9w3",
        "outputId": "9d12b8f2-305f-4610-e1a4-29f343ed53b0"
      },
      "source": [
        "train_upsampled['label']"
      ],
      "execution_count": null,
      "outputs": [
        {
          "output_type": "execute_result",
          "data": {
            "text/plain": [
              "19492    1\n",
              "16151    1\n",
              "25144    1\n",
              "30902    1\n",
              "16522    1\n",
              "        ..\n",
              "31956    0\n",
              "31957    0\n",
              "31958    0\n",
              "31959    0\n",
              "31961    0\n",
              "Name: label, Length: 59440, dtype: int64"
            ]
          },
          "metadata": {
            "tags": []
          },
          "execution_count": 13
        }
      ]
    },
    {
      "cell_type": "markdown",
      "metadata": {
        "id": "O4Lz6rl47W2E"
      },
      "source": [
        "### **CREATING A PIPELINE**"
      ]
    },
    {
      "cell_type": "markdown",
      "metadata": {
        "id": "fmrXuL1x-RI7"
      },
      "source": [
        "**CountVectoriser**\r\n",
        "\r\n",
        "This function simply does the job of splitting a text into tokens and counting the frequency. "
      ]
    },
    {
      "cell_type": "markdown",
      "metadata": {
        "id": "qdNUnx68-W-g"
      },
      "source": [
        "**TfidTransformer**\r\n",
        "\r\n",
        "This sklearn function called TfidfTransformer applies the frequency weighting to our machine learning model. Without this process of weighting tokens, less frequent words would vanish in the training process later on. The TfidfTransformer assigns less value to more frequent words and allocates more value to less frequent but perhaps more meaningful words."
      ]
    },
    {
      "cell_type": "code",
      "metadata": {
        "id": "GkcIryKp7c3O"
      },
      "source": [
        "from sklearn.feature_extraction.text import TfidfVectorizer\r\n",
        "from sklearn.pipeline import Pipeline\r\n",
        "from sklearn.feature_extraction.text import CountVectorizer\r\n",
        "from sklearn.feature_extraction.text import TfidfTransformer"
      ],
      "execution_count": null,
      "outputs": []
    },
    {
      "cell_type": "markdown",
      "metadata": {
        "id": "juwZY_iWEeZb"
      },
      "source": [
        "**SGDClassifier**\r\n",
        "\r\n",
        "Stochastic gradient descent is a simple and very efficient approach to fit linear models. It is particularly useful when the number of samples is very large. It supports different loss functions and penalties for classification."
      ]
    },
    {
      "cell_type": "code",
      "metadata": {
        "id": "XZxBxUqsEptu"
      },
      "source": [
        "from sklearn.linear_model import SGDClassifier\r\n",
        "pipeline_sgd = Pipeline([('vect',CountVectorizer()),('tfidf',TfidfTransformer()),('nb',SGDClassifier())])"
      ],
      "execution_count": null,
      "outputs": []
    },
    {
      "cell_type": "markdown",
      "metadata": {
        "id": "aFntFONv-VNX"
      },
      "source": [
        "**Logistic** **regression**\r\n",
        "\r\n",
        "Logistic regression is a machine learning algorithm for classification. In this algorithm, the probabilities describing the possible outcomes of a single trial are modelled using a logistic function."
      ]
    },
    {
      "cell_type": "code",
      "metadata": {
        "id": "6gxXmck3H8Q9"
      },
      "source": [
        "\r\n",
        "from sklearn.linear_model import LogisticRegression\r\n",
        "pipeline_lr = Pipeline([('vect', TfidfVectorizer()),('tfidf',  TfidfTransformer()),('n', LogisticRegression())])"
      ],
      "execution_count": null,
      "outputs": []
    },
    {
      "cell_type": "markdown",
      "metadata": {
        "id": "jnLVbEK0Rvlx"
      },
      "source": [
        "**Decision Tree**\r\n",
        "\r\n",
        "Given a data of attributes together with its classes, a decision tree produces a sequence of rules that can be used to classify the data."
      ]
    },
    {
      "cell_type": "code",
      "metadata": {
        "id": "iXHbE3rhQyGc"
      },
      "source": [
        "from sklearn.tree import DecisionTreeClassifier\r\n",
        "pipeline_dt = Pipeline([('vect', TfidfVectorizer()),('tfidf',  TfidfTransformer()),('n', DecisionTreeClassifier())])"
      ],
      "execution_count": null,
      "outputs": []
    },
    {
      "cell_type": "markdown",
      "metadata": {
        "id": "QFDyF4TISPMt"
      },
      "source": [
        "**Random Forest**\r\n",
        "\r\n",
        "Random forest classifier is a meta-estimator that fits a number of decision trees on various sub-samples of datasets and uses average to improve the predictive accuracy of the model and controls over-fitting. The sub-sample size is always the same as the original input sample size but the samples are drawn with replacement."
      ]
    },
    {
      "cell_type": "code",
      "metadata": {
        "id": "rQmTJn78RucQ"
      },
      "source": [
        "from sklearn.ensemble import RandomForestClassifier\r\n",
        "pipeline_rfc = Pipeline([('vect', TfidfVectorizer()),('tfidf',  TfidfTransformer()),('n', RandomForestClassifier())])"
      ],
      "execution_count": null,
      "outputs": []
    },
    {
      "cell_type": "markdown",
      "metadata": {
        "id": "BFaR_5v9Sm9A"
      },
      "source": [
        "**K-Nearest Neighbours**\r\n",
        "\r\n",
        "Neighbours based classification is a type of lazy learning as it does not attempt to construct a general internal model, but simply stores instances of the training data. Classification is computed from a simple majority vote of the k nearest neighbours of each point."
      ]
    },
    {
      "cell_type": "code",
      "metadata": {
        "id": "YAAXQOrYSpne"
      },
      "source": [
        "from sklearn.neighbors import KNeighborsClassifier\r\n",
        "pipeline_kn = Pipeline([('vect', CountVectorizer()),('tfidf',  TfidfTransformer()),('n', KNeighborsClassifier(n_neighbors=3))])"
      ],
      "execution_count": null,
      "outputs": []
    },
    {
      "cell_type": "markdown",
      "metadata": {
        "id": "2qxWFN7sUZmp"
      },
      "source": [
        "**Support vector machine**\r\n",
        "\r\n",
        "Support vector machine is a representation of the training data as points in space separated into categories by a clear gap that is as wide as possible. New examples are then mapped into that same space and predicted to belong to a category based on which side of the gap they fall."
      ]
    },
    {
      "cell_type": "code",
      "metadata": {
        "id": "05js_mUTWMp5"
      },
      "source": [
        "from sklearn.svm import SVC\r\n",
        "pipeline_svc = Pipeline([('vect', CountVectorizer()),('tfidf',  TfidfTransformer()),('n', SVC(C=1.0, kernel='linear',random_state=123))])"
      ],
      "execution_count": null,
      "outputs": []
    },
    {
      "cell_type": "markdown",
      "metadata": {
        "id": "q8awrTTuBHF0"
      },
      "source": [
        "### **TRAINING** **THE** **MODEL** "
      ]
    },
    {
      "cell_type": "markdown",
      "metadata": {
        "id": "zarG_oN88GPG"
      },
      "source": [
        "Before training the model, all the given data had to be split into a training and test set."
      ]
    },
    {
      "cell_type": "code",
      "metadata": {
        "id": "tpseECsfBRxL"
      },
      "source": [
        "from sklearn.model_selection import train_test_split\r\n",
        "X_train,X_test,y_train,y_test = train_test_split(train_upsampled['tweet'],train_upsampled['label'],random_state=0,test_size=0.2)"
      ],
      "execution_count": null,
      "outputs": []
    },
    {
      "cell_type": "markdown",
      "metadata": {
        "id": "Qi9pK05EUrmZ"
      },
      "source": [
        ""
      ]
    },
    {
      "cell_type": "markdown",
      "metadata": {
        "id": "Nfe7eQQ7UsLO"
      },
      "source": [
        "**Using** **SGD** **Classifier**"
      ]
    },
    {
      "cell_type": "code",
      "metadata": {
        "colab": {
          "base_uri": "https://localhost:8080/"
        },
        "id": "dxksf0lCIHjL",
        "outputId": "d94b19f9-ac08-4160-ee93-86eb87c6aabd"
      },
      "source": [
        "%%time\r\n",
        "model_sgd = pipeline_sgd.fit(X_train,y_train)\r\n",
        "y_predict1 = model_sgd.predict(X_test)\r\n",
        "from sklearn.metrics import f1_score\r\n",
        "score_1 = f1_score(y_test, y_predict1)\r\n",
        "print(score_1)"
      ],
      "execution_count": null,
      "outputs": [
        {
          "output_type": "stream",
          "text": [
            "0.9707651186100903\n",
            "CPU times: user 1.16 s, sys: 115 ms, total: 1.28 s\n",
            "Wall time: 1.19 s\n"
          ],
          "name": "stdout"
        }
      ]
    },
    {
      "cell_type": "markdown",
      "metadata": {
        "id": "IEmoejeQU0d3"
      },
      "source": [
        "**Using Logistic regression**"
      ]
    },
    {
      "cell_type": "code",
      "metadata": {
        "colab": {
          "base_uri": "https://localhost:8080/"
        },
        "id": "nsnbZOFnITTl",
        "outputId": "3f276221-d4e6-4808-aedd-bde8e91e9e17"
      },
      "source": [
        "%%time\r\n",
        "model_lr = pipeline_lr.fit(X_train,y_train)\r\n",
        "y_predict2 = model_lr.predict(X_test)\r\n",
        "from sklearn.metrics import f1_score\r\n",
        "score_2 = f1_score(y_test, y_predict2)\r\n",
        "print(score_2)"
      ],
      "execution_count": null,
      "outputs": [
        {
          "output_type": "stream",
          "text": [
            "0.9814861355449442\n",
            "CPU times: user 1.66 s, sys: 1.01 s, total: 2.66 s\n",
            "Wall time: 1.85 s\n"
          ],
          "name": "stdout"
        }
      ]
    },
    {
      "cell_type": "markdown",
      "metadata": {
        "id": "487dlHv_U2lW"
      },
      "source": [
        "**Using Decision Tree**"
      ]
    },
    {
      "cell_type": "code",
      "metadata": {
        "colab": {
          "base_uri": "https://localhost:8080/"
        },
        "id": "dBkI9YPZRRt_",
        "outputId": "018ba687-8e17-41db-ace6-b0a62dc8000c"
      },
      "source": [
        "%%time\r\n",
        "model_dt = pipeline_dt.fit(X_train,y_train)\r\n",
        "y_predict3 = model_dt.predict(X_test)\r\n",
        "from sklearn.metrics import f1_score\r\n",
        "score_3 = f1_score(y_test, y_predict3)\r\n",
        "print(score_3)"
      ],
      "execution_count": null,
      "outputs": [
        {
          "output_type": "stream",
          "text": [
            "0.9530832185398267\n",
            "CPU times: user 10.8 s, sys: 3.2 ms, total: 10.8 s\n",
            "Wall time: 10.8 s\n"
          ],
          "name": "stdout"
        }
      ]
    },
    {
      "cell_type": "markdown",
      "metadata": {
        "id": "zGD3PtH3U4cX"
      },
      "source": [
        "**Using Random Forest**"
      ]
    },
    {
      "cell_type": "code",
      "metadata": {
        "colab": {
          "base_uri": "https://localhost:8080/"
        },
        "id": "ohkUcdisSBWB",
        "outputId": "20220308-65e0-4152-8a6e-dafd80218f68"
      },
      "source": [
        "%%time\r\n",
        "model_rfc = pipeline_rfc.fit(X_train,y_train)\r\n",
        "y_predict4 = model_rfc.predict(X_test)\r\n",
        "from sklearn.metrics import f1_score\r\n",
        "score_4 = f1_score(y_test, y_predict4)\r\n",
        "print(score_4)"
      ],
      "execution_count": null,
      "outputs": [
        {
          "output_type": "stream",
          "text": [
            "0.9986415350653761\n",
            "CPU times: user 43.8 s, sys: 53.4 ms, total: 43.9 s\n",
            "Wall time: 44 s\n"
          ],
          "name": "stdout"
        }
      ]
    },
    {
      "cell_type": "markdown",
      "metadata": {
        "id": "9M4kMmpaU6n7"
      },
      "source": [
        "**Using K-Nearest Neighbours**"
      ]
    },
    {
      "cell_type": "code",
      "metadata": {
        "colab": {
          "base_uri": "https://localhost:8080/"
        },
        "id": "i5CV3AAISwby",
        "outputId": "f35ebda8-4ca6-4f43-d464-8c12fa1d5e02"
      },
      "source": [
        "%%time\r\n",
        "model_kn = pipeline_kn.fit(X_train,y_train)\r\n",
        "y_predict5 = model_kn.predict(X_test)\r\n",
        "from sklearn.metrics import f1_score\r\n",
        "score_5 = f1_score(y_test, y_predict5)\r\n",
        "print(score_5)"
      ],
      "execution_count": null,
      "outputs": [
        {
          "output_type": "stream",
          "text": [
            "0.9987263309841217\n",
            "CPU times: user 11.6 s, sys: 412 ms, total: 12 s\n",
            "Wall time: 12.1 s\n"
          ],
          "name": "stdout"
        }
      ]
    },
    {
      "cell_type": "markdown",
      "metadata": {
        "id": "t5I2smrjU9Yt"
      },
      "source": [
        "**Using Support vector machine**"
      ]
    },
    {
      "cell_type": "code",
      "metadata": {
        "colab": {
          "base_uri": "https://localhost:8080/"
        },
        "id": "REX2V5OaXkfB",
        "outputId": "567a77c5-00c0-4ef1-e8bb-f16dbd68d9cb"
      },
      "source": [
        "%%time\r\n",
        "model_svc = pipeline_svc.fit(X_train,y_train)\r\n",
        "y_predict6 = model_svc.predict(X_test)\r\n",
        "from sklearn.metrics import f1_score\r\n",
        "score_6 = f1_score(y_test, y_predict6)\r\n",
        "print(score_6)"
      ],
      "execution_count": null,
      "outputs": [
        {
          "output_type": "stream",
          "text": [
            "0.987290632101675\n",
            "CPU times: user 7min 30s, sys: 304 ms, total: 7min 30s\n",
            "Wall time: 7min 32s\n"
          ],
          "name": "stdout"
        }
      ]
    },
    {
      "cell_type": "markdown",
      "metadata": {
        "id": "Vo1Pke0mW0Zt"
      },
      "source": [
        "### **PLOTTING DIFFERENT MODEL VS THEIR ACCURACY**"
      ]
    },
    {
      "cell_type": "code",
      "metadata": {
        "colab": {
          "base_uri": "https://localhost:8080/",
          "height": 295
        },
        "id": "GZlT5qzcWsRT",
        "outputId": "7bf3e044-608b-43b5-9d24-23c19fdf75e7"
      },
      "source": [
        "import matplotlib.pyplot as plt\r\n",
        "# x axis values \r\n",
        "x = ['SGD','LR','DT','RF','KNN','SVM']\r\n",
        "# corresponding y axis values \r\n",
        "y = [score_1,score_2,score_3,score_4,score_5,score_6] \r\n",
        "# plotting a graph \r\n",
        "plt.plot(x, y, color='black', linestyle='dashed', linewidth = 3, marker='o', markerfacecolor='red', markersize=12,) \r\n",
        "# naming the x-axis \r\n",
        "plt.xlabel('Model') \r\n",
        "# naming the y-axis \r\n",
        "plt.ylabel('Accuracy') \r\n",
        "# plot title \r\n",
        "plt.title('Hate Speech Detection Model') \r\n",
        "# function to show the plot \r\n",
        "plt.show() \r\n"
      ],
      "execution_count": null,
      "outputs": [
        {
          "output_type": "display_data",
          "data": {
            "image/png": "[encoded data removed]",
            "text/plain": [
              "<Figure size 432x288 with 1 Axes>"
            ]
          },
          "metadata": {
            "tags": [],
            "needs_background": "light"
          }
        }
      ]
    },
    {
      "cell_type": "markdown",
      "metadata": {
        "id": "CpHH0CFtc2UY"
      },
      "source": [
        "### **RESULT**"
      ]
    },
    {
      "cell_type": "code",
      "metadata": {
        "colab": {
          "base_uri": "https://localhost:8080/"
        },
        "id": "nNAkcJeRc4WV",
        "outputId": "9c06dd07-c5f5-4e1c-909b-864b5da7b028"
      },
      "source": [
        "best = max(score_1, score_2, score_3, score_4, score_5, score_6) \r\n",
        "for i in y:\r\n",
        "  if i == best:\r\n",
        "    z= y.index(i)\r\n",
        "    break\r\n",
        "print(\"The best model, we can use here is: \",x[z])\r\n",
        "print(\"It's accuracy is : \", i)\r\n",
        "\r\n"
      ],
      "execution_count": null,
      "outputs": [
        {
          "output_type": "stream",
          "text": [
            "The best model, we can use here is:  KNN\n",
            "It's accuracy is :  0.9987263309841217\n"
          ],
          "name": "stdout"
        }
      ]
    }
  ]
}