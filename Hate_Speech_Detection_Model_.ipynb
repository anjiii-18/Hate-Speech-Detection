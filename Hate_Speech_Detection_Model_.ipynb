{
  "nbformat": 4,
  "nbformat_minor": 0,
  "metadata": {
    "colab": {
      "name": "Hate Speech Detection Model  .ipynb",
      "provenance": []
    },
    "kernelspec": {
      "name": "python3",
      "display_name": "Python 3"
    }
  },
  "cells": [
    {
      "cell_type": "code",
      "metadata": {
        "colab": {
          "base_uri": "https://localhost:8080/"
        },
        "id": "KxVwyCH-orrR",
        "outputId": "3023d1a4-81b1-4202-81b2-f98a11bdb95d"
      },
      "source": [
        "import pandas as pd\r\n",
        "train = pd.read_csv('/content/sample_data/train.csv')\r\n",
        "print(\"Training Set:\"% train.columns, train.shape, len(train))\r\n",
        "test = pd.read_csv('/content/sample_data/test.csv')\r\n",
        "print(\"Test Set:\"% test.columns, test.shape, len(test))"
      ],
      "execution_count": null,
      "outputs": [
        {
          "output_type": "stream",
          "text": [
            "Training Set: (31962, 3) 31962\n",
            "Test Set: (17197, 2) 17197\n"
          ],
          "name": "stdout"
        }
      ]
    },
    {
      "cell_type": "markdown",
      "metadata": {
        "id": "doWiubmQpnIv"
      },
      "source": [
        "### **DATA** **CLEANING**"
      ]
    },
    {
      "cell_type": "code",
      "metadata": {
        "id": "OIE-aSvepR2_"
      },
      "source": [
        "import re\r\n",
        "def clean_text(df,text_field):\r\n",
        "  df[text_field] = df[text_field].str.lower()\r\n",
        "  pattern = r\"(@[A-Za-z0-9]+)|([^0-9A-Za-z \\t])|(\\w+:\\/\\/\\S+)|^rt|http.+?\"\r\n",
        "  df[text_field] = df[text_field].apply(lambda elem: re.sub(pattern, \"\", elem))\r\n",
        "  return df\r\n",
        "test_clean = clean_text(test, \"tweet\")\r\n",
        "train_clean = clean_text(train, \"tweet\")\r\n"
      ],
      "execution_count": null,
      "outputs": []
    },
    {
      "cell_type": "markdown",
      "metadata": {
        "id": "4SU9F6Z_5Tgd"
      },
      "source": [
        "### **HANDLING IMBALANCED DATA**"
      ]
    },
    {
      "cell_type": "code",
      "metadata": {
        "colab": {
          "base_uri": "https://localhost:8080/"
        },
        "id": "VWlaIcwqtkh6",
        "outputId": "eb484b68-1ff0-4af4-a62e-026714b329d8"
      },
      "source": [
        "from sklearn.utils import resample\r\n",
        "train_majority = train_clean[train_clean.label==0]\r\n",
        "train_minority = train_clean[train_clean.label==1]\r\n",
        "train_minority_upsampled = resample(train_minority,replace=True,n_samples=len(train_majority),random_state=123)\r\n",
        "train_upsampled = pd.concat([train_minority_upsampled , train_majority])\r\n",
        "train_upsampled['label'].value_counts()"
      ],
      "execution_count": null,
      "outputs": [
        {
          "output_type": "execute_result",
          "data": {
            "text/plain": [
              "1    29720\n",
              "0    29720\n",
              "Name: label, dtype: int64"
            ]
          },
          "metadata": {
            "tags": []
          },
          "execution_count": 18
        }
      ]
    },
    {
      "cell_type": "markdown",
      "metadata": {
        "id": "O4Lz6rl47W2E"
      },
      "source": [
        "### **CREATING A PIPELINE**"
      ]
    },
    {
      "cell_type": "code",
      "metadata": {
        "id": "GkcIryKp7c3O"
      },
      "source": [
        "from sklearn.feature_extraction.text import TfidfVectorizer\r\n",
        "from sklearn.pipeline import Pipeline\r\n",
        "from sklearn.feature_extraction.text import CountVectorizer\r\n",
        "from sklearn.feature_extraction.text import TfidfTransformer\r\n",
        "from sklearn.linear_model import SGDClassifier\r\n",
        "pipeline = Pipeline([('vect',CountVectorizer()),('tfidf',TfidfTransformer()),('nb',SGDClassifier())])"
      ],
      "execution_count": null,
      "outputs": []
    },
    {
      "cell_type": "markdown",
      "metadata": {
        "id": "q8awrTTuBHF0"
      },
      "source": [
        "### **TRAINING** **THE** **MODEL** "
      ]
    },
    {
      "cell_type": "code",
      "metadata": {
        "colab": {
          "base_uri": "https://localhost:8080/"
        },
        "id": "tpseECsfBRxL",
        "outputId": "04d86433-a38d-4bf4-c54b-14f96f743907"
      },
      "source": [
        "from sklearn.model_selection import train_test_split\r\n",
        "X_train,X_test,y_train,y_test = train_test_split(train_upsampled['tweet'],train_upsampled['label'],random_state=0,test_size=0.2)\r\n",
        "model = pipeline.fit(X_train,y_train)\r\n",
        "y_predict = model.predict(X_test)\r\n",
        "from sklearn.metrics import f1_score\r\n",
        "f1_score(y_test, y_predict)"
      ],
      "execution_count": null,
      "outputs": [
        {
          "output_type": "execute_result",
          "data": {
            "text/plain": [
              "0.9713617767387493"
            ]
          },
          "metadata": {
            "tags": []
          },
          "execution_count": 25
        }
      ]
    }
  ]
}